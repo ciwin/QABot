{
 "cells": [
  {
   "cell_type": "markdown",
   "metadata": {},
   "source": [
    "# Q&A Chatbot     \n",
    "Christoph Windheuser, OutSystems    \n",
    "Sept. 15 2021"
   ]
  },
  {
   "cell_type": "code",
   "execution_count": 1,
   "metadata": {},
   "outputs": [],
   "source": [
    "import torch                                           # Import pytorch\n",
    "import textwrap                                        # Import TextWrapper to wrap text to 80 characters\n",
    "from transformers import BertForQuestionAnswering      # Load the BERT QA model (300 Mio parameters, 1.3 GB)\n",
    "from transformers import BertTokenizer                 # Load BERT Tokenizer\n",
    "\n",
    "model     = BertForQuestionAnswering.from_pretrained('bert-large-uncased-whole-word-masking-finetuned-squad')\n",
    "tokenizer = BertTokenizer.from_pretrained('bert-large-uncased-whole-word-masking-finetuned-squad')\n"
   ]
  },
  {
   "cell_type": "code",
   "execution_count": 2,
   "metadata": {},
   "outputs": [],
   "source": [
    "def answer_question(question, answer_text):\n",
    "  input_ids    = tokenizer.encode(question, answer_text)\n",
    "  tokens       = tokenizer.convert_ids_to_tokens(input_ids)\n",
    "  sep_index    = input_ids.index(tokenizer.sep_token_id)\n",
    "  num_seg_a    = sep_index + 1\n",
    "  num_seg_b    = len(input_ids) - num_seg_a\n",
    "  segment_ids  = [0]*num_seg_a + [1]*num_seg_b\n",
    "  assert len(segment_ids) == len(input_ids)\n",
    "\n",
    "  start_scores, end_scores = model(torch.tensor([input_ids]),\n",
    "                                   token_type_ids=torch.tensor([segment_ids]), return_dict=False)\n",
    "\n",
    "  answer_start = torch.argmax(start_scores)\n",
    "  answer_end   = torch.argmax(end_scores)\n",
    "  answer       = tokens[answer_start]\n",
    "\n",
    "  for i in range(answer_start + 1, answer_end + 1):\n",
    "    if tokens[i][0:2] == '##':\n",
    "      answer += tokens[i][2:]\n",
    "    else:\n",
    "      answer += ' ' + tokens[i]\n",
    "\n",
    "  return answer \n"
   ]
  },
  {
   "cell_type": "code",
   "execution_count": 3,
   "metadata": {},
   "outputs": [
    {
     "name": "stdout",
     "output_type": "stream",
     "text": [
      " A business case captures the reasoning for initiating a project or task. It is\n",
      "often presented in a well-structured written document, but may also come in the\n",
      "form of a short verbal agreement or presentation. The logic of the business case\n",
      "is that, whenever resources such as money or effort are consumed, they should be\n",
      "in support of a specific business need. An example could be that a software\n",
      "upgrade might improve system performance, but the business case is that better\n",
      "performance would improve customer satisfaction, require less task processing\n",
      "time, or reduce system maintenance costs. A compelling business case adequately\n",
      "captures both the quantifiable and non-quantifiable characteristics of a\n",
      "proposed project. Business cases can range from comprehensive and highly\n",
      "structured, as required by formal project management methodologies, to informal\n",
      "and brief. Information included in a formal business case could be the\n",
      "background of the project, the expected business benefits, the options\n",
      "considered (with reasons for rejecting or carrying forward each option), the\n",
      "expected costs of the project, a gap analysis and the expected risks.\n",
      "Consideration should also be given to the option of doing nothing including the\n",
      "costs and risks of inactivity. From this information, the justification for the\n",
      "project is derived.\n",
      "Length of paragraph_text: 1330\n"
     ]
    }
   ],
   "source": [
    "wrapper = textwrap.TextWrapper(width=80)    # Wrap text to 80 characters\n",
    "\n",
    "paragraph_text = \"\"\"\n",
    "A business case captures the reasoning for initiating a project or task.\n",
    "It is often presented in a well-structured written document, but may also come in the form of a\n",
    "short verbal agreement or presentation. The logic of the business case is that, whenever resources\n",
    "such as money or effort are consumed, they should be in support of a specific business need.\n",
    "An example could be that a software upgrade might improve system performance, but the business case is\n",
    "that better performance would improve customer satisfaction, require less task processing time, or reduce\n",
    "system maintenance costs. A compelling business case adequately captures both the quantifiable and\n",
    "non-quantifiable characteristics of a proposed project.\n",
    "Business cases can range from comprehensive and highly structured, as required by formal project\n",
    "management methodologies, to informal and brief. Information included in a formal business case could be\n",
    "the background of the project, the expected business benefits, the options considered (with reasons for\n",
    "rejecting or carrying forward each option), the expected costs of the project, a gap analysis and the\n",
    "expected risks. Consideration should also be given to the option of doing nothing including the costs\n",
    "and risks of inactivity. From this information, the justification for the project is derived.\n",
    "\"\"\"\n",
    "print(wrapper.fill(paragraph_text))\n",
    "print (\"Length of paragraph_text: %d\" % len(paragraph_text))\n"
   ]
  },
  {
   "cell_type": "code",
   "execution_count": 11,
   "metadata": {},
   "outputs": [
    {
     "name": "stdout",
     "output_type": "stream",
     "text": [
      "Answer: \"justification for the project\"\n"
     ]
    }
   ],
   "source": [
    "question = \"What is derived from a business case?\"\n",
    "answer   = answer_question(question, paragraph_text)\n",
    "print('Answer: \"' + answer + '\"')\n"
   ]
  },
  {
   "cell_type": "code",
   "execution_count": null,
   "metadata": {},
   "outputs": [],
   "source": []
  }
 ],
 "metadata": {
  "kernelspec": {
   "display_name": "Python 3",
   "language": "python",
   "name": "python3"
  },
  "language_info": {
   "codemirror_mode": {
    "name": "ipython",
    "version": 3
   },
   "file_extension": ".py",
   "mimetype": "text/x-python",
   "name": "python",
   "nbconvert_exporter": "python",
   "pygments_lexer": "ipython3",
   "version": "3.8.5"
  }
 },
 "nbformat": 4,
 "nbformat_minor": 4
}
