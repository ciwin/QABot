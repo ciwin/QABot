{
 "cells": [
  {
   "cell_type": "markdown",
   "metadata": {},
   "source": [
    "# Q&A Chatbot     \n",
    "Christoph Windheuser, OutSystems    \n",
    "Sept. 15 2021"
   ]
  },
  {
   "cell_type": "code",
   "execution_count": 2,
   "metadata": {},
   "outputs": [],
   "source": [
    "import torch                                           # Import pytorch\n",
    "import textwrap                                        # Import TextWrapper to wrap text to 80 characters\n",
    "from transformers import BertForQuestionAnswering      # Load the BERT QA model (300 Mio parameters, 1.3 GB)\n",
    "from transformers import BertTokenizer                 # Load BERT Tokenizer\n",
    "\n",
    "model     = BertForQuestionAnswering.from_pretrained('bert-large-uncased-whole-word-masking-finetuned-squad')\n",
    "tokenizer = BertTokenizer.from_pretrained('bert-large-uncased-whole-word-masking-finetuned-squad')\n"
   ]
  },
  {
   "cell_type": "code",
   "execution_count": 3,
   "metadata": {},
   "outputs": [],
   "source": [
    "def answer_question(question, answer_text):\n",
    "  input_ids    = tokenizer.encode(question, answer_text)\n",
    "  tokens       = tokenizer.convert_ids_to_tokens(input_ids)\n",
    "  sep_index    = input_ids.index(tokenizer.sep_token_id)\n",
    "  num_seg_a    = sep_index + 1\n",
    "  num_seg_b    = len(input_ids) - num_seg_a\n",
    "  segment_ids  = [0]*num_seg_a + [1]*num_seg_b\n",
    "  assert len(segment_ids) == len(input_ids)\n",
    "\n",
    "  start_scores, end_scores = model(torch.tensor([input_ids]),\n",
    "                                   token_type_ids=torch.tensor([segment_ids]), return_dict=False)\n",
    "\n",
    "  answer_start = torch.argmax(start_scores)\n",
    "  answer_end   = torch.argmax(end_scores)\n",
    "  answer       = tokens[answer_start]\n",
    "\n",
    "  for i in range(answer_start + 1, answer_end + 1):\n",
    "    if tokens[i][0:2] == '##':\n",
    "      answer += tokens[i][2:]\n",
    "    else:\n",
    "      answer += ' ' + tokens[i]\n",
    "\n",
    "  return answer \n"
   ]
  },
  {
   "cell_type": "markdown",
   "metadata": {},
   "source": [
    "wrapper = textwrap.TextWrapper(width=80)    # Wrap text to 80 characters\n",
    "\n",
    "paragraph_text = \"\"\"\n",
    "A business case captures the reasoning for initiating a project or task.\n",
    "It is often presented in a well-structured written document, but may also come in the form of a\n",
    "short verbal agreement or presentation. The logic of the business case is that, whenever resources\n",
    "such as money or effort are consumed, they should be in support of a specific business need.\n",
    "An example could be that a software upgrade might improve system performance, but the business case is\n",
    "that better performance would improve customer satisfaction, require less task processing time, or reduce\n",
    "system maintenance costs. A compelling business case adequately captures both the quantifiable and\n",
    "non-quantifiable characteristics of a proposed project.\n",
    "Business cases can range from comprehensive and highly structured, as required by formal project\n",
    "management methodologies, to informal and brief. Information included in a formal business case could be\n",
    "the background of the project, the expected business benefits, the options considered (with reasons for\n",
    "rejecting or carrying forward each option), the expected costs of the project, a gap analysis and the\n",
    "expected risks. Consideration should also be given to the option of doing nothing including the costs\n",
    "and risks of inactivity. From this information, the justification for the project is derived.\n",
    "\"\"\"\n",
    "\n",
    "print(wrapper.fill(paragraph_text))\n",
    "print (\"Length of paragraph_text: %d\" % len(paragraph_text))\n"
   ]
  },
  {
   "cell_type": "code",
   "execution_count": 41,
   "metadata": {},
   "outputs": [
    {
     "name": "stdout",
     "output_type": "stream",
     "text": [
      " EVA stands for Enterprise Value Assessment. EVA assesses the value of an\n",
      "investment benefits in OutSystems.  EVA calculates a business case for an\n",
      "OutSystems investments. ROI is Return on Investment. Return on Investment is\n",
      "usually abreviated as RIO. EVA can compare the ROI of an investment into\n",
      "OutSystems with an investment into another technology, like high code.  The\n",
      "development costs are estimated by summing up the efforts per role and\n",
      "multiplied by a day rate. An easy way to estimate the development costs on an\n",
      "application is by T-shirt sizing the app.  NPV stands for Net Present Value. NPV\n",
      "is defined as NPV = R_t/(1+i)^t. ROI is defined as the sum of all benefits\n",
      "divided over the sum of all investments over a certain period of time as a\n",
      "percentage value. The payback period is the first point in time when the sum of\n",
      "all benefits is greater than the sum of all investments.\n",
      "Length of paragraph_text: 891\n"
     ]
    }
   ],
   "source": [
    "wrapper = textwrap.TextWrapper(width=80)    # Wrap text to 80 characters\n",
    "\n",
    "paragraph_text = \"\"\"\n",
    "EVA stands for Enterprise Value Assessment.\n",
    "EVA assesses the value of an investment benefits in OutSystems. \n",
    "EVA calculates a business case for an OutSystems investments.\n",
    "ROI is Return on Investment.\n",
    "Return on Investment is usually abreviated as RIO.\n",
    "EVA can compare the ROI of an investment into OutSystems with an investment into another technology, like high code. \n",
    "The development costs are estimated by summing up the efforts per role and multiplied by a day rate.\n",
    "An easy way to estimate the development costs on an application is by T-shirt sizing the app. \n",
    "NPV stands for Net Present Value.\n",
    "NPV is defined as NPV = R_t/(1+i)^t.\n",
    "ROI is defined as the sum of all benefits divided over the sum of all investments over a certain period of time as a percentage value.\n",
    "The payback period is the first point in time when the sum of all benefits is greater than the sum of all investments.\n",
    "\"\"\"\n",
    "\n",
    "print(wrapper.fill(paragraph_text))\n",
    "print (\"Length of paragraph_text: %d\" % len(paragraph_text))\n"
   ]
  },
  {
   "cell_type": "code",
   "execution_count": 43,
   "metadata": {},
   "outputs": [
    {
     "name": "stdout",
     "output_type": "stream",
     "text": [
      "Answer: \"npv = r _ t / ( 1 + i ) ^ t\"\n"
     ]
    }
   ],
   "source": [
    "question = \"How is NPV calculated?\"\n",
    "answer   = answer_question(question, paragraph_text)\n",
    "print('Answer: \"' + answer + '\"')\n"
   ]
  },
  {
   "cell_type": "code",
   "execution_count": null,
   "metadata": {},
   "outputs": [],
   "source": []
  }
 ],
 "metadata": {
  "kernelspec": {
   "display_name": "Python 3",
   "language": "python",
   "name": "python3"
  },
  "language_info": {
   "codemirror_mode": {
    "name": "ipython",
    "version": 3
   },
   "file_extension": ".py",
   "mimetype": "text/x-python",
   "name": "python",
   "nbconvert_exporter": "python",
   "pygments_lexer": "ipython3",
   "version": "3.8.5"
  }
 },
 "nbformat": 4,
 "nbformat_minor": 4
}
